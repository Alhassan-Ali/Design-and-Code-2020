{
 "cells": [
  {
   "cell_type": "markdown",
   "metadata": {},
   "source": [
    "# Get started with Computer Vision and TF"
   ]
  },
  {
   "cell_type": "markdown",
   "metadata": {},
   "source": [
    "<table class=\"tfo-notebook-buttons\" align=\"left\">\n",
    "  <td>\n",
    "    <a target=\"_blank\" href=\"https://colab.research.google.com/github/Rishit-dagli/Design-and-Code-2020/blob/master/cats-vs-dogs.ipynb\"><img src=\"https://www.tensorflow.org/images/colab_logo_32px.png\" />Run in Google Colab</a>\n",
    "  </td>\n",
    "  <td>\n",
    "    <a target=\"_blank\" href=\"https://github.com/Rishit-dagli/Design-and-Code-2020/blob/master/cats-vs-dogs.ipynb\"><img src=\"https://www.tensorflow.org/images/GitHub-Mark-32px.png\" />View source on GitHub</a>\n",
    "  </td>\n",
    "  <td>\n",
    "    <a href=\"https://github.com/Rishit-dagli/Design-and-Code-2020/blob/master/cats-vs-dogs.ipynb\"><img src=\"https://www.tensorflow.org/images/download_logo_32px.png\" />Download notebook</a>\n",
    "  </td>\n",
    "</table>"
   ]
  },
  {
   "cell_type": "markdown",
   "metadata": {},
   "source": [
    "In this notebook you will create your first Computer Vision based Deep Learning model to classify between cats and dogs with TensorFlow. We will use the [dogs-vs-cats dataset](https://www.kaggle.com/c/dogs-vs-cats/data) which is open-sourced. We will create a simple 2 class binary CNN to do so. You wil see all the aspects of training such a model, data preprocressing, the actual model, reducing overfitting and finally making inferences.\n",
    "\n",
    "|Cats|Dogs|\n",
    "|----|----|\n",
    "|![](https://github.com/Rishit-dagli/Design-and-Code-2020/blob/master/images/sample-cats.png)|![](https://github.com/Rishit-dagli/Design-and-Code-2020/blob/master/images/sample-dogs.png)|"
   ]
  },
  {
   "cell_type": "code",
   "execution_count": null,
   "metadata": {},
   "outputs": [],
   "source": []
  }
 ],
 "metadata": {
  "environment": {
   "name": "tf2-gpu.2-1.m47",
   "type": "gcloud",
   "uri": "gcr.io/deeplearning-platform-release/tf2-gpu.2-1:m47"
  },
  "kernelspec": {
   "display_name": "Python 3",
   "language": "python",
   "name": "python3"
  },
  "language_info": {
   "codemirror_mode": {
    "name": "ipython",
    "version": 3
   },
   "file_extension": ".py",
   "mimetype": "text/x-python",
   "name": "python",
   "nbconvert_exporter": "python",
   "pygments_lexer": "ipython3",
   "version": "3.7.6"
  }
 },
 "nbformat": 4,
 "nbformat_minor": 4
}
